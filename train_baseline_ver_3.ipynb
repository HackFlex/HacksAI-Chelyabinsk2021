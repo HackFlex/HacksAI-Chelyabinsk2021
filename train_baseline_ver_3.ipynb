{
  "nbformat": 4,
  "nbformat_minor": 0,
  "metadata": {
    "kernelspec": {
      "language": "python",
      "display_name": "Python 3",
      "name": "python3"
    },
    "language_info": {
      "name": "python",
      "version": "3.6.6",
      "mimetype": "text/x-python",
      "codemirror_mode": {
        "name": "ipython",
        "version": 3
      },
      "pygments_lexer": "ipython3",
      "nbconvert_exporter": "python",
      "file_extension": ".py"
    },
    "colab": {
      "name": "baseline_ver_3.ipynb",
      "provenance": [],
      "collapsed_sections": []
    },
    "accelerator": "GPU",
    "widgets": {
      "application/vnd.jupyter.widget-state+json": {
        "b03501b249344651b429e24ce9fac889": {
          "model_module": "@jupyter-widgets/controls",
          "model_name": "HBoxModel",
          "model_module_version": "1.5.0",
          "state": {
            "_view_name": "HBoxView",
            "_dom_classes": [],
            "_model_name": "HBoxModel",
            "_view_module": "@jupyter-widgets/controls",
            "_model_module_version": "1.5.0",
            "_view_count": null,
            "_view_module_version": "1.5.0",
            "box_style": "",
            "layout": "IPY_MODEL_4d2c9c77ac4d46b98a8445fae1c5a92a",
            "_model_module": "@jupyter-widgets/controls",
            "children": [
              "IPY_MODEL_d5b023f3453e41c7a4c632044be998f6",
              "IPY_MODEL_5f36fd4cb7fc474bae1bb677d425e130",
              "IPY_MODEL_babf451f2c86436a8753dfdb1f6cefeb"
            ]
          }
        },
        "4d2c9c77ac4d46b98a8445fae1c5a92a": {
          "model_module": "@jupyter-widgets/base",
          "model_name": "LayoutModel",
          "model_module_version": "1.2.0",
          "state": {
            "_view_name": "LayoutView",
            "grid_template_rows": null,
            "right": null,
            "justify_content": null,
            "_view_module": "@jupyter-widgets/base",
            "overflow": null,
            "_model_module_version": "1.2.0",
            "_view_count": null,
            "flex_flow": null,
            "width": null,
            "min_width": null,
            "border": null,
            "align_items": null,
            "bottom": null,
            "_model_module": "@jupyter-widgets/base",
            "top": null,
            "grid_column": null,
            "overflow_y": null,
            "overflow_x": null,
            "grid_auto_flow": null,
            "grid_area": null,
            "grid_template_columns": null,
            "flex": null,
            "_model_name": "LayoutModel",
            "justify_items": null,
            "grid_row": null,
            "max_height": null,
            "align_content": null,
            "visibility": null,
            "align_self": null,
            "height": null,
            "min_height": null,
            "padding": null,
            "grid_auto_rows": null,
            "grid_gap": null,
            "max_width": null,
            "order": null,
            "_view_module_version": "1.2.0",
            "grid_template_areas": null,
            "object_position": null,
            "object_fit": null,
            "grid_auto_columns": null,
            "margin": null,
            "display": null,
            "left": null
          }
        },
        "d5b023f3453e41c7a4c632044be998f6": {
          "model_module": "@jupyter-widgets/controls",
          "model_name": "HTMLModel",
          "model_module_version": "1.5.0",
          "state": {
            "_view_name": "HTMLView",
            "style": "IPY_MODEL_d9327c8afa2e416c8c21d97858a9388c",
            "_dom_classes": [],
            "description": "",
            "_model_name": "HTMLModel",
            "placeholder": "​",
            "_view_module": "@jupyter-widgets/controls",
            "_model_module_version": "1.5.0",
            "value": "100%",
            "_view_count": null,
            "_view_module_version": "1.5.0",
            "description_tooltip": null,
            "_model_module": "@jupyter-widgets/controls",
            "layout": "IPY_MODEL_7f796c028a77403e8b2b6985e7177bcf"
          }
        },
        "5f36fd4cb7fc474bae1bb677d425e130": {
          "model_module": "@jupyter-widgets/controls",
          "model_name": "FloatProgressModel",
          "model_module_version": "1.5.0",
          "state": {
            "_view_name": "ProgressView",
            "style": "IPY_MODEL_06f43b5b315c48959096523aebcf901b",
            "_dom_classes": [],
            "description": "",
            "_model_name": "FloatProgressModel",
            "bar_style": "success",
            "max": 87319819,
            "_view_module": "@jupyter-widgets/controls",
            "_model_module_version": "1.5.0",
            "value": 87319819,
            "_view_count": null,
            "_view_module_version": "1.5.0",
            "orientation": "horizontal",
            "min": 0,
            "description_tooltip": null,
            "_model_module": "@jupyter-widgets/controls",
            "layout": "IPY_MODEL_dfc69c3705224fca8566f63235bee232"
          }
        },
        "babf451f2c86436a8753dfdb1f6cefeb": {
          "model_module": "@jupyter-widgets/controls",
          "model_name": "HTMLModel",
          "model_module_version": "1.5.0",
          "state": {
            "_view_name": "HTMLView",
            "style": "IPY_MODEL_971a577b4bee4c1aa812b271de5d26b6",
            "_dom_classes": [],
            "description": "",
            "_model_name": "HTMLModel",
            "placeholder": "​",
            "_view_module": "@jupyter-widgets/controls",
            "_model_module_version": "1.5.0",
            "value": " 83.3M/83.3M [00:02&lt;00:00, 28.9MB/s]",
            "_view_count": null,
            "_view_module_version": "1.5.0",
            "description_tooltip": null,
            "_model_module": "@jupyter-widgets/controls",
            "layout": "IPY_MODEL_b49ca0ae362b4fa99be8dc80c92986d6"
          }
        },
        "d9327c8afa2e416c8c21d97858a9388c": {
          "model_module": "@jupyter-widgets/controls",
          "model_name": "DescriptionStyleModel",
          "model_module_version": "1.5.0",
          "state": {
            "_view_name": "StyleView",
            "_model_name": "DescriptionStyleModel",
            "description_width": "",
            "_view_module": "@jupyter-widgets/base",
            "_model_module_version": "1.5.0",
            "_view_count": null,
            "_view_module_version": "1.2.0",
            "_model_module": "@jupyter-widgets/controls"
          }
        },
        "7f796c028a77403e8b2b6985e7177bcf": {
          "model_module": "@jupyter-widgets/base",
          "model_name": "LayoutModel",
          "model_module_version": "1.2.0",
          "state": {
            "_view_name": "LayoutView",
            "grid_template_rows": null,
            "right": null,
            "justify_content": null,
            "_view_module": "@jupyter-widgets/base",
            "overflow": null,
            "_model_module_version": "1.2.0",
            "_view_count": null,
            "flex_flow": null,
            "width": null,
            "min_width": null,
            "border": null,
            "align_items": null,
            "bottom": null,
            "_model_module": "@jupyter-widgets/base",
            "top": null,
            "grid_column": null,
            "overflow_y": null,
            "overflow_x": null,
            "grid_auto_flow": null,
            "grid_area": null,
            "grid_template_columns": null,
            "flex": null,
            "_model_name": "LayoutModel",
            "justify_items": null,
            "grid_row": null,
            "max_height": null,
            "align_content": null,
            "visibility": null,
            "align_self": null,
            "height": null,
            "min_height": null,
            "padding": null,
            "grid_auto_rows": null,
            "grid_gap": null,
            "max_width": null,
            "order": null,
            "_view_module_version": "1.2.0",
            "grid_template_areas": null,
            "object_position": null,
            "object_fit": null,
            "grid_auto_columns": null,
            "margin": null,
            "display": null,
            "left": null
          }
        },
        "06f43b5b315c48959096523aebcf901b": {
          "model_module": "@jupyter-widgets/controls",
          "model_name": "ProgressStyleModel",
          "model_module_version": "1.5.0",
          "state": {
            "_view_name": "StyleView",
            "_model_name": "ProgressStyleModel",
            "description_width": "",
            "_view_module": "@jupyter-widgets/base",
            "_model_module_version": "1.5.0",
            "_view_count": null,
            "_view_module_version": "1.2.0",
            "bar_color": null,
            "_model_module": "@jupyter-widgets/controls"
          }
        },
        "dfc69c3705224fca8566f63235bee232": {
          "model_module": "@jupyter-widgets/base",
          "model_name": "LayoutModel",
          "model_module_version": "1.2.0",
          "state": {
            "_view_name": "LayoutView",
            "grid_template_rows": null,
            "right": null,
            "justify_content": null,
            "_view_module": "@jupyter-widgets/base",
            "overflow": null,
            "_model_module_version": "1.2.0",
            "_view_count": null,
            "flex_flow": null,
            "width": null,
            "min_width": null,
            "border": null,
            "align_items": null,
            "bottom": null,
            "_model_module": "@jupyter-widgets/base",
            "top": null,
            "grid_column": null,
            "overflow_y": null,
            "overflow_x": null,
            "grid_auto_flow": null,
            "grid_area": null,
            "grid_template_columns": null,
            "flex": null,
            "_model_name": "LayoutModel",
            "justify_items": null,
            "grid_row": null,
            "max_height": null,
            "align_content": null,
            "visibility": null,
            "align_self": null,
            "height": null,
            "min_height": null,
            "padding": null,
            "grid_auto_rows": null,
            "grid_gap": null,
            "max_width": null,
            "order": null,
            "_view_module_version": "1.2.0",
            "grid_template_areas": null,
            "object_position": null,
            "object_fit": null,
            "grid_auto_columns": null,
            "margin": null,
            "display": null,
            "left": null
          }
        },
        "971a577b4bee4c1aa812b271de5d26b6": {
          "model_module": "@jupyter-widgets/controls",
          "model_name": "DescriptionStyleModel",
          "model_module_version": "1.5.0",
          "state": {
            "_view_name": "StyleView",
            "_model_name": "DescriptionStyleModel",
            "description_width": "",
            "_view_module": "@jupyter-widgets/base",
            "_model_module_version": "1.5.0",
            "_view_count": null,
            "_view_module_version": "1.2.0",
            "_model_module": "@jupyter-widgets/controls"
          }
        },
        "b49ca0ae362b4fa99be8dc80c92986d6": {
          "model_module": "@jupyter-widgets/base",
          "model_name": "LayoutModel",
          "model_module_version": "1.2.0",
          "state": {
            "_view_name": "LayoutView",
            "grid_template_rows": null,
            "right": null,
            "justify_content": null,
            "_view_module": "@jupyter-widgets/base",
            "overflow": null,
            "_model_module_version": "1.2.0",
            "_view_count": null,
            "flex_flow": null,
            "width": null,
            "min_width": null,
            "border": null,
            "align_items": null,
            "bottom": null,
            "_model_module": "@jupyter-widgets/base",
            "top": null,
            "grid_column": null,
            "overflow_y": null,
            "overflow_x": null,
            "grid_auto_flow": null,
            "grid_area": null,
            "grid_template_columns": null,
            "flex": null,
            "_model_name": "LayoutModel",
            "justify_items": null,
            "grid_row": null,
            "max_height": null,
            "align_content": null,
            "visibility": null,
            "align_self": null,
            "height": null,
            "min_height": null,
            "padding": null,
            "grid_auto_rows": null,
            "grid_gap": null,
            "max_width": null,
            "order": null,
            "_view_module_version": "1.2.0",
            "grid_template_areas": null,
            "object_position": null,
            "object_fit": null,
            "grid_auto_columns": null,
            "margin": null,
            "display": null,
            "left": null
          }
        }
      }
    }
  },
  "cells": [
    {
      "cell_type": "code",
      "metadata": {
        "_uuid": "8f2839f25d086af736a60e9eeb907d3b93b6e0e5",
        "_cell_guid": "b1076dfc-b9ad-4769-8c92-a6c4dae69d19",
        "trusted": true,
        "colab": {
          "base_uri": "https://localhost:8080/"
        },
        "id": "ocyx5iDPAd0F",
        "outputId": "84d74f11-3b7c-4d9c-cfd5-a369d372431b"
      },
      "source": [
        "import numpy as np # linear algebra\n",
        "import pandas as pd # data processing, CSV file I/O (e.g. pd.read_csv)\n",
        "import os\n",
        "import torch\n",
        "import numpy as np\n",
        "import pickle\n",
        "import random\n",
        "import warnings\n",
        "\n",
        "from tqdm import tqdm, tqdm_notebook\n",
        "from IPython.display import clear_output\n",
        "from PIL import Image\n",
        "from pathlib import Path\n",
        "from __future__ import print_function, division\n",
        "\n",
        "from torchvision import transforms, utils, models\n",
        "from skimage import io, transform\n",
        "from multiprocessing.pool import ThreadPool\n",
        "from torch.utils.data import Dataset, DataLoader\n",
        "import torch.nn as nn\n",
        "\n",
        "from matplotlib import colors, pyplot as plt\n",
        "%matplotlib inline\n",
        "\n",
        "warnings.filterwarnings(\"ignore\")\n",
        "\n",
        "np.set_printoptions(precision=2)\n",
        "torch.set_printoptions(precision=4)\n",
        "plt.ion()   # interactive mode\n",
        "DEVICE = torch.device('cuda' if torch.cuda.is_available() else 'cpu')\n",
        "train_on_gpu = torch.cuda.is_available()\n",
        "\n",
        "if not train_on_gpu:\n",
        "    print('CUDA is not available.  Training on CPU ...')\n",
        "else:\n",
        "    print('CUDA is available!  Training on GPU ...')\n",
        "\n",
        "!nvidia-smi\n",
        "\n",
        "\n",
        "SEED = 42\n",
        "\n",
        "random.seed(SEED)\n",
        "np.random.seed(SEED)\n",
        "torch.manual_seed(SEED)\n",
        "torch.cuda.manual_seed(SEED)\n",
        "torch.backends.cudnn.deterministic = True"
      ],
      "execution_count": null,
      "outputs": [
        {
          "output_type": "stream",
          "name": "stdout",
          "text": [
            "CUDA is available!  Training on GPU ...\n",
            "Sat Nov 20 23:37:07 2021       \n",
            "+-----------------------------------------------------------------------------+\n",
            "| NVIDIA-SMI 495.44       Driver Version: 460.32.03    CUDA Version: 11.2     |\n",
            "|-------------------------------+----------------------+----------------------+\n",
            "| GPU  Name        Persistence-M| Bus-Id        Disp.A | Volatile Uncorr. ECC |\n",
            "| Fan  Temp  Perf  Pwr:Usage/Cap|         Memory-Usage | GPU-Util  Compute M. |\n",
            "|                               |                      |               MIG M. |\n",
            "|===============================+======================+======================|\n",
            "|   0  Tesla P100-PCIE...  Off  | 00000000:00:04.0 Off |                    0 |\n",
            "| N/A   32C    P0    26W / 250W |      2MiB / 16280MiB |      0%      Default |\n",
            "|                               |                      |                  N/A |\n",
            "+-------------------------------+----------------------+----------------------+\n",
            "                                                                               \n",
            "+-----------------------------------------------------------------------------+\n",
            "| Processes:                                                                  |\n",
            "|  GPU   GI   CI        PID   Type   Process name                  GPU Memory |\n",
            "|        ID   ID                                                   Usage      |\n",
            "|=============================================================================|\n",
            "|  No running processes found                                                 |\n",
            "+-----------------------------------------------------------------------------+\n"
          ]
        }
      ]
    },
    {
      "cell_type": "code",
      "metadata": {
        "colab": {
          "base_uri": "https://localhost:8080/"
        },
        "id": "sMTCT1ZxBR3-",
        "outputId": "d0af67c9-edc8-465b-df74-bbd671ea547f"
      },
      "source": [
        "from google.colab import drive\n",
        "drive.mount('/content/gdrive/')"
      ],
      "execution_count": null,
      "outputs": [
        {
          "output_type": "stream",
          "name": "stdout",
          "text": [
            "Mounted at /content/gdrive/\n"
          ]
        }
      ]
    },
    {
      "cell_type": "code",
      "metadata": {
        "id": "MYoGTilKDYOb"
      },
      "source": [
        "# train\n",
        "root_dir = '/content/gdrive/MyDrive/Hacks/train'\n",
        "labels = os.listdir(root_dir)\n",
        "labels_splitted = [list(map(float,x[:-4].split('_'))) for x in labels]\n",
        "data_csv = pd.concat((pd.DataFrame(labels), pd.DataFrame(labels_splitted)), axis=1)\n",
        "data_csv.columns = ['name', 'k', 't', 'r']\n",
        "data_csv.to_csv('/content/gdrive/MyDrive/Hacks/data.csv', index=False)\n",
        "\n",
        " \n",
        "# test\n",
        "test_root_dir = '/content/gdrive/MyDrive/Hacks/test'\n",
        "test_labels = os.listdir(test_root_dir)\n",
        "test_labels_splitted = [list(map(float,x[:-4].split('_'))) for x in test_labels]\n",
        "test_data_csv = pd.concat((pd.DataFrame(test_labels), pd.DataFrame(test_labels_splitted)), axis=1)\n",
        "test_data_csv.columns = ['name', 'k', 't', 'r']\n",
        "test_data_csv.to_csv('/content/gdrive/MyDrive/Hacks/test_data.csv', index=False)"
      ],
      "execution_count": null,
      "outputs": []
    },
    {
      "cell_type": "code",
      "metadata": {
        "colab": {
          "base_uri": "https://localhost:8080/",
          "height": 257
        },
        "id": "Cb2R_UXJPS_R",
        "outputId": "24285360-4d21-4210-a53c-9c62a8c4a2cd"
      },
      "source": [
        "n = 0\n",
        "img_name = data_csv.iloc[n, 0]\n",
        "marks = data_csv.iloc[n, 1:]\n",
        "marks = np.asarray(marks)\n",
        "# marks = marks.astype('float').reshape(-1, 2)\n",
        "\n",
        "\n",
        "def show_marks(image, marks):\n",
        "    \"\"\"Show image with landmarks\"\"\"\n",
        "    print(*marks)\n",
        "    plt.imshow(image)\n",
        "    \n",
        "    plt.pause(0.001)  # pause a bit so that plots are updated\n",
        "\n",
        "plt.figure()\n",
        "show_marks(io.imread(os.path.join(root_dir, img_name)),\n",
        "               marks)\n",
        "plt.show()"
      ],
      "execution_count": null,
      "outputs": [
        {
          "output_type": "stream",
          "name": "stdout",
          "text": [
            "15.0 0.0 0.0\n"
          ]
        },
        {
          "output_type": "display_data",
          "data": {
            "image/png": "[encoded data removed]",
            "text/plain": [
              "<Figure size 432x288 with 1 Axes>"
            ]
          },
          "metadata": {
            "needs_background": "light"
          }
        }
      ]
    },
    {
      "cell_type": "code",
      "metadata": {
        "id": "Yf7AL33gFApO"
      },
      "source": [
        "class MarksDataset(Dataset):\n",
        "    \"\"\"Face Landmarks dataset.\"\"\"\n",
        "\n",
        "    def __init__(self, csv_file, root_dir, transform=None):\n",
        "        \"\"\"\n",
        "        Args:\n",
        "            csv_file (string): Path to the csv file with annotations.\n",
        "            root_dir (string): Directory with all the images.\n",
        "            transform (callable, optional): Optional transform to be applied\n",
        "                on a sample.\n",
        "        \"\"\"\n",
        "        self.data = pd.read_csv(csv_file)\n",
        "        self.root_dir = root_dir\n",
        "        self.transform = transform\n",
        "\n",
        "    def __len__(self):\n",
        "        return len(self.data)\n",
        "\n",
        "    def __getitem__(self, idx):\n",
        "        if torch.is_tensor(idx):\n",
        "            idx = idx.tolist()\n",
        "\n",
        "        img_name = os.path.join(self.root_dir,\n",
        "                                self.data.iloc[idx, 0])\n",
        "        image = io.imread(img_name)\n",
        "        marks = self.data.iloc[idx, 1:]\n",
        "        marks = np.array(marks)\n",
        "        marks = marks.astype('float')\n",
        "        sample = {'image': image, 'marks': marks}\n",
        "\n",
        "        if self.transform:\n",
        "            sample = self.transform(sample)\n",
        "\n",
        "        return sample"
      ],
      "execution_count": null,
      "outputs": []
    },
    {
      "cell_type": "code",
      "metadata": {
        "id": "RT2_j8JlH9AK"
      },
      "source": [
        "dataset = MarksDataset(csv_file='/content/gdrive/MyDrive/Hacks/data.csv',\n",
        "                                    root_dir=root_dir)"
      ],
      "execution_count": null,
      "outputs": []
    },
    {
      "cell_type": "code",
      "metadata": {
        "id": "h6iVVZt2OLx9"
      },
      "source": [
        "class Rescale(object):\n",
        "    \"\"\"Rescale the image in a sample to a given size.\n",
        "\n",
        "    Args:\n",
        "        output_size (tuple or int): Desired output size. If tuple, output is\n",
        "            matched to output_size. If int, smaller of image edges is matched\n",
        "            to output_size keeping aspect ratio the same.\n",
        "    \"\"\"\n",
        "\n",
        "    def __init__(self, output_size):\n",
        "        assert isinstance(output_size, (int, tuple))\n",
        "        self.output_size = output_size\n",
        "\n",
        "    def __call__(self, sample):\n",
        "        image, marks = sample['image'], sample['marks']\n",
        "\n",
        "        h, w = image.shape[:2]\n",
        "        if isinstance(self.output_size, int):\n",
        "            if h > w:\n",
        "                new_h, new_w = self.output_size * h / w, self.output_size\n",
        "            else:\n",
        "                new_h, new_w = self.output_size, self.output_size * w / h\n",
        "        else:\n",
        "            new_h, new_w = self.output_size\n",
        "\n",
        "        new_h, new_w = int(new_h), int(new_w)\n",
        "\n",
        "        img = transform.resize(image, (new_h, new_w))\n",
        "\n",
        "        # h and w are swapped for marks because for images,\n",
        "        # x and y axes are axis 1 and 0 respectively\n",
        "        \n",
        "        return {'image': img, 'marks': marks}\n",
        "\n",
        "\n",
        "class RandomCrop(object):\n",
        "    \"\"\"Crop randomly the image in a sample.\n",
        "\n",
        "    Args:\n",
        "        output_size (tuple or int): Desired output size. If int, square crop\n",
        "            is made.\n",
        "    \"\"\"\n",
        "\n",
        "    def __init__(self, output_size):\n",
        "        assert isinstance(output_size, (int, tuple))\n",
        "        if isinstance(output_size, int):\n",
        "            self.output_size = (output_size, output_size)\n",
        "        else:\n",
        "            assert len(output_size) == 2\n",
        "            self.output_size = output_size\n",
        "\n",
        "    def __call__(self, sample):\n",
        "        image, marks = sample['image'], sample['marks']\n",
        "\n",
        "        h, w = image.shape[:2]\n",
        "        new_h, new_w = self.output_size\n",
        "\n",
        "        top = np.random.randint(0, h - new_h)\n",
        "        left = np.random.randint(0, w - new_w)\n",
        "\n",
        "        image = image[top: top + new_h,\n",
        "                      left: left + new_w]\n",
        "\n",
        "        return {'image': image, 'marks': marks}\n",
        "\n",
        "\n",
        "class CenterCrop(object):\n",
        "    \"\"\"Crop center the image in a sample.\n",
        "\n",
        "    Args:\n",
        "        output_size (tuple or int): Desired output size. If int, square crop\n",
        "            is made.\n",
        "    \"\"\"\n",
        "\n",
        "    def __init__(self, output_size):\n",
        "        assert isinstance(output_size, (int, tuple))\n",
        "        if isinstance(output_size, int):\n",
        "            self.output_size = (output_size, output_size)\n",
        "        else:\n",
        "            assert len(output_size) == 2\n",
        "            self.output_size = output_size\n",
        "\n",
        "    def __call__(self, sample):\n",
        "        image, marks = sample['image'], sample['marks']\n",
        "\n",
        "        h, w = image.shape[:2]\n",
        "        new_h, new_w = self.output_size\n",
        "\n",
        "        top = h//2 - new_h//2\n",
        "        left = w//2 - new_w//2\n",
        "\n",
        "        image = image[top: top + new_h,\n",
        "                      left: left + new_w]\n",
        "\n",
        "        return {'image': image, 'marks': marks}\n",
        "\n",
        "\n",
        "class ToTensor(object):\n",
        "    \"\"\"Convert ndarrays in sample to Tensors.\"\"\"\n",
        "\n",
        "    def __call__(self, sample):\n",
        "        image, marks = sample['image'], sample['marks']\n",
        "\n",
        "        # swap color axis because\n",
        "        # numpy image: H x W x C\n",
        "        # torch image: C x H x W\n",
        "        image = image.transpose((2, 0, 1))\n",
        "        return {'image': torch.from_numpy(image),\n",
        "                'marks': torch.from_numpy(marks)}"
      ],
      "execution_count": null,
      "outputs": []
    },
    {
      "cell_type": "code",
      "metadata": {
        "id": "J_LdP_1pNyLu"
      },
      "source": [
        ""
      ],
      "execution_count": null,
      "outputs": []
    },
    {
      "cell_type": "code",
      "metadata": {
        "id": "RUdQAnTSTyuW"
      },
      "source": [
        "transformed_dataset = MarksDataset(csv_file='/content/gdrive/MyDrive/Hacks/data.csv',\n",
        "                                    root_dir=root_dir,\n",
        "                                           transform=transforms.Compose([\n",
        "                                               Rescale(300),\n",
        "                                               CenterCrop(224),\n",
        "                                               ToTensor()\n",
        "                                           ]))"
      ],
      "execution_count": null,
      "outputs": []
    },
    {
      "cell_type": "code",
      "metadata": {
        "id": "yXLsKFtZTy5B"
      },
      "source": [
        "batch_size = 10\n",
        "dataloader = DataLoader(transformed_dataset, batch_size=batch_size,\n",
        "                        shuffle=True, num_workers=0)\n",
        "\n",
        "\n",
        "# Helper function to show a batch\n",
        "def show_marks_batch(sample_batched):\n",
        "    \"\"\"Show image with marks for a batch of samples.\"\"\"\n",
        "    images_batch, marks_batch = \\\n",
        "            sample_batched['image'], sample_batched['marks']\n",
        "    batch_size = len(images_batch)\n",
        "    im_size = images_batch.size(2)\n",
        "    grid_border_size = 5\n",
        "\n",
        "    grid = utils.make_grid(images_batch)\n",
        "    plt.imshow(grid.numpy().transpose((1, 2, 0)))\n",
        "    plt.title('Batch from dataloader')"
      ],
      "execution_count": null,
      "outputs": []
    },
    {
      "cell_type": "code",
      "metadata": {
        "id": "bDpj8qyaTy81"
      },
      "source": [
        "def fit_epoch(model, train_loader, criterion, optimizer, size=224):\n",
        "    running_loss = 0.0\n",
        "    running_corrects = 0\n",
        "    processed_data = 0\n",
        "  \n",
        "    for batch in train_loader:\n",
        "        inputs = batch['image'].view(-1, 3, size, size)\n",
        "        inputs = inputs.float()\n",
        "        marks = batch['marks'].view(-1, 3)\n",
        "        marks = marks.float()\n",
        "        inputs = inputs.to(DEVICE)\n",
        "        marks = marks.to(DEVICE)\n",
        "        optimizer.zero_grad()\n",
        "\n",
        "        outputs = model(inputs)\n",
        "        loss = criterion(outputs, marks)\n",
        "        loss.backward()\n",
        "        optimizer.step()\n",
        "        preds = outputs\n",
        "        running_loss += loss.item() * inputs.size(0)\n",
        "        running_corrects += torch.sum(abs(preds.data - marks.data) < 10)\n",
        "        processed_data += inputs.size(0)\n",
        "              \n",
        "    train_loss = running_loss / processed_data\n",
        "    train_acc = running_corrects.cpu().numpy() / processed_data\n",
        "    return train_loss, train_acc"
      ],
      "execution_count": null,
      "outputs": []
    },
    {
      "cell_type": "code",
      "metadata": {
        "id": "wXO8xXt6TzBC"
      },
      "source": [
        "def eval_epoch(model, val_loader, criterion, size=224):\n",
        "    model.eval()\n",
        "    running_loss = 0.0\n",
        "    running_corrects = 0\n",
        "    processed_size = 0\n",
        "\n",
        "    for batch in val_loader:\n",
        "        inputs = batch['image'].view(-1, 3, size, size)\n",
        "        inputs = inputs.float()\n",
        "        marks = batch['marks'].view(-1, 3)\n",
        "        marks = marks.float()\n",
        "        inputs = inputs.to(DEVICE)\n",
        "        marks = marks.to(DEVICE)\n",
        "        with torch.set_grad_enabled(False):\n",
        "            outputs = model(inputs)\n",
        "            loss = criterion(outputs, marks)\n",
        "            preds = outputs\n",
        "\n",
        "        running_loss += loss.item() * inputs.size(0)\n",
        "        running_corrects += torch.sum((abs(preds.data - marks.data) < 10).min())\n",
        "        processed_size += inputs.size(0)\n",
        "    val_loss = running_loss / processed_size\n",
        "    val_acc = running_corrects.double() / processed_size\n",
        "    return val_loss, val_acc"
      ],
      "execution_count": null,
      "outputs": []
    },
    {
      "cell_type": "code",
      "metadata": {
        "id": "6oHZ-2NKaoVh"
      },
      "source": [
        "def show_loss(history):\n",
        "    loss, _, val_loss, _ = zip(*history)\n",
        "    plt.figure(figsize=(12, 6))\n",
        "    plt.plot(loss, label=\"train_loss\")\n",
        "    plt.plot(val_loss, label=\"val_loss\")\n",
        "    \n",
        "    plt.legend(loc='best')\n",
        "    plt.xlabel(\"epochs\")\n",
        "    plt.ylabel(\"loss\")\n",
        "    plt.show()"
      ],
      "execution_count": null,
      "outputs": []
    },
    {
      "cell_type": "code",
      "metadata": {
        "id": "Jv8ZUZFbTzFr"
      },
      "source": [
        "def train(train_dataset, val_dataset, model, epochs, batch_size, shuffle=True, sampler=None, lr=0.01):\n",
        "    train_loader = DataLoader(train_dataset, batch_size=batch_size,\n",
        "                        shuffle=True, num_workers=0)\n",
        "\n",
        "    val_loader = DataLoader(val_dataset, batch_size=batch_size,\n",
        "                        shuffle=True, num_workers=0)\n",
        "\n",
        "    history = []\n",
        "    log_template = \"\\nEpoch {ep:03d} train_loss: {t_loss:0.4f} \\\n",
        "    val_loss {v_loss:0.4f} train_acc {t_acc:0.4f} val_acc {v_acc:0.4f}\"\n",
        "\n",
        "    with tqdm(desc=\"epoch\", total=epochs) as pbar_outer:\n",
        "        opt = torch.optim.AdamW(model.parameters(), lr=lr)\n",
        "        scheduler = torch.optim.lr_scheduler.StepLR(opt, 15, 0.1)\n",
        "        criterion = nn.MSELoss()\n",
        "\n",
        "        for epoch in range(epochs):\n",
        "            \n",
        "            train_loss, train_acc = fit_epoch(model, train_loader, criterion, opt)\n",
        "            train_loss = train_loss ** 0.5\n",
        "            print(\"loss\", train_loss)\n",
        "            \n",
        "            val_loss, val_acc = eval_epoch(model, val_loader, criterion)\n",
        "            val_loss = val_loss ** 0.5\n",
        "            history.append((train_loss, train_acc, val_loss, val_acc))\n",
        "            scheduler.step()\n",
        "            pbar_outer.update(1)\n",
        "            tqdm.write(log_template.format(ep=epoch+1, t_loss=train_loss,\\\n",
        "                                           v_loss=val_loss, t_acc=train_acc, v_acc=val_acc))\n",
        "        \n",
        "            \n",
        "    return history"
      ],
      "execution_count": null,
      "outputs": []
    },
    {
      "cell_type": "code",
      "metadata": {
        "id": "0Oo9YkHiTzJd"
      },
      "source": [
        "def predict(model, test_loader, size=224):\n",
        "    with torch.no_grad():\n",
        "        logits = []\n",
        "    \n",
        "        for batch in test_loader:\n",
        "            inputs = batch['image'].view(-1, 3, size, size)\n",
        "            inputs = inputs.float()\n",
        "            inputs = inputs.to(DEVICE)\n",
        "\n",
        "            model.eval()\n",
        "            outputs = model(inputs).cpu()\n",
        "            logits.append(outputs)\n",
        "            \n",
        "    probs = logits\n",
        "    return probs"
      ],
      "execution_count": null,
      "outputs": []
    },
    {
      "cell_type": "code",
      "metadata": {
        "id": "VLlwwsxXTzNX",
        "colab": {
          "base_uri": "https://localhost:8080/",
          "height": 66,
          "referenced_widgets": [
            "b03501b249344651b429e24ce9fac889",
            "4d2c9c77ac4d46b98a8445fae1c5a92a",
            "d5b023f3453e41c7a4c632044be998f6",
            "5f36fd4cb7fc474bae1bb677d425e130",
            "babf451f2c86436a8753dfdb1f6cefeb",
            "d9327c8afa2e416c8c21d97858a9388c",
            "7f796c028a77403e8b2b6985e7177bcf",
            "06f43b5b315c48959096523aebcf901b",
            "dfc69c3705224fca8566f63235bee232",
            "971a577b4bee4c1aa812b271de5d26b6",
            "b49ca0ae362b4fa99be8dc80c92986d6"
          ]
        },
        "outputId": "483a0528-64ef-43a4-d943-b84bf79d4592"
      },
      "source": [
        "model_resnet = models.resnet34(pretrained=True)\n",
        "model_resnet.fc = nn.Sequential(\n",
        "                                nn.Linear(in_features=model_resnet.fc.in_features, out_features=64),\n",
        "                                nn.ReLU(),\n",
        "                                nn.Linear(64, 3))\n",
        "model_resnet = model_resnet.to(DEVICE)"
      ],
      "execution_count": null,
      "outputs": [
        {
          "output_type": "stream",
          "name": "stderr",
          "text": [
            "Downloading: \"https://download.pytorch.org/models/resnet34-b627a593.pth\" to /root/.cache/torch/hub/checkpoints/resnet34-b627a593.pth\n"
          ]
        },
        {
          "output_type": "display_data",
          "data": {
            "application/vnd.jupyter.widget-view+json": {
              "model_id": "b03501b249344651b429e24ce9fac889",
              "version_minor": 0,
              "version_major": 2
            },
            "text/plain": [
              "  0%|          | 0.00/83.3M [00:00<?, ?B/s]"
            ]
          },
          "metadata": {}
        }
      ]
    },
    {
      "cell_type": "code",
      "metadata": {
        "id": "Os02AL0WTzRs"
      },
      "source": [
        "for i, child in enumerate(model_resnet.children()):\n",
        "    if i not in [9]:\n",
        "        for param in child.parameters():\n",
        "            param.requires_grad = False"
      ],
      "execution_count": null,
      "outputs": []
    },
    {
      "cell_type": "code",
      "metadata": {
        "colab": {
          "base_uri": "https://localhost:8080/"
        },
        "id": "iVKkc8FeTzVU",
        "outputId": "a8830f56-023b-4cf6-aa2e-54ccd9cd6569"
      },
      "source": [
        "history = train(transformed_dataset, transformed_dataset, model=model_resnet, epochs=60, \n",
        "                batch_size=10, lr=0.1\n",
        "               )"
      ],
      "execution_count": 19,
      "outputs": [
        {
          "metadata": {
            "tags": null
          },
          "name": "stderr",
          "output_type": "stream",
          "text": [
            "\repoch:   0%|          | 0/60 [00:00<?, ?it/s]"
          ]
        },
        {
          "metadata": {
            "tags": null
          },
          "name": "stdout",
          "output_type": "stream",
          "text": [
            "loss 73.93080673397465\n"
          ]
        },
        {
          "metadata": {
            "tags": null
          },
          "name": "stderr",
          "output_type": "stream",
          "text": [
            "epoch:   2%|▏         | 1/60 [04:06<4:02:45, 246.87s/it]"
          ]
        },
        {
          "metadata": {
            "tags": null
          },
          "name": "stdout",
          "output_type": "stream",
          "text": [
            "\n",
            "Epoch 001 train_loss: 73.9308     val_loss 60.3067 train_acc 0.7220 val_acc 0.0000\n",
            "loss 59.789282654011664\n"
          ]
        },
        {
          "metadata": {
            "tags": null
          },
          "name": "stderr",
          "output_type": "stream",
          "text": [
            "epoch:   3%|▎         | 2/60 [06:19<2:53:49, 179.82s/it]"
          ]
        },
        {
          "metadata": {
            "tags": null
          },
          "name": "stdout",
          "output_type": "stream",
          "text": [
            "\n",
            "Epoch 002 train_loss: 59.7893     val_loss 58.0972 train_acc 0.8626 val_acc 0.0000\n",
            "loss 50.33487081689992\n"
          ]
        },
        {
          "metadata": {
            "tags": null
          },
          "name": "stderr",
          "output_type": "stream",
          "text": [
            "epoch:   5%|▌         | 3/60 [08:32<2:30:24, 158.32s/it]"
          ]
        },
        {
          "metadata": {
            "tags": null
          },
          "name": "stdout",
          "output_type": "stream",
          "text": [
            "\n",
            "Epoch 003 train_loss: 50.3349     val_loss 45.8187 train_acc 0.9617 val_acc 0.0000\n",
            "loss 48.54802230988203\n"
          ]
        },
        {
          "metadata": {
            "tags": null
          },
          "name": "stderr",
          "output_type": "stream",
          "text": [
            "epoch:   7%|▋         | 4/60 [10:45<2:18:31, 148.42s/it]"
          ]
        },
        {
          "metadata": {
            "tags": null
          },
          "name": "stdout",
          "output_type": "stream",
          "text": [
            "\n",
            "Epoch 004 train_loss: 48.5480     val_loss 48.6394 train_acc 1.0224 val_acc 0.0000\n",
            "loss 42.965908545408425\n"
          ]
        },
        {
          "metadata": {
            "tags": null
          },
          "name": "stderr",
          "output_type": "stream",
          "text": [
            "epoch:   8%|▊         | 5/60 [12:58<2:10:53, 142.80s/it]"
          ]
        },
        {
          "metadata": {
            "tags": null
          },
          "name": "stdout",
          "output_type": "stream",
          "text": [
            "\n",
            "Epoch 005 train_loss: 42.9659     val_loss 39.2091 train_acc 0.9712 val_acc 0.0000\n",
            "loss 39.75129173590336\n"
          ]
        },
        {
          "metadata": {
            "tags": null
          },
          "name": "stderr",
          "output_type": "stream",
          "text": [
            "epoch:  10%|█         | 6/60 [15:11<2:05:22, 139.31s/it]"
          ]
        },
        {
          "metadata": {
            "tags": null
          },
          "name": "stdout",
          "output_type": "stream",
          "text": [
            "\n",
            "Epoch 006 train_loss: 39.7513     val_loss 37.9387 train_acc 1.0703 val_acc 0.0000\n",
            "loss 35.38562231901826\n"
          ]
        },
        {
          "metadata": {
            "tags": null
          },
          "name": "stderr",
          "output_type": "stream",
          "text": [
            "epoch:  12%|█▏        | 7/60 [17:23<2:01:07, 137.13s/it]"
          ]
        },
        {
          "metadata": {
            "tags": null
          },
          "name": "stdout",
          "output_type": "stream",
          "text": [
            "\n",
            "Epoch 007 train_loss: 35.3856     val_loss 30.0560 train_acc 1.0927 val_acc 0.0000\n",
            "loss 31.498747276407116\n"
          ]
        },
        {
          "metadata": {
            "tags": null
          },
          "name": "stderr",
          "output_type": "stream",
          "text": [
            "epoch:  13%|█▎        | 8/60 [19:35<1:57:18, 135.36s/it]"
          ]
        },
        {
          "metadata": {
            "tags": null
          },
          "name": "stdout",
          "output_type": "stream",
          "text": [
            "\n",
            "Epoch 008 train_loss: 31.4987     val_loss 27.0495 train_acc 1.1597 val_acc 0.0000\n",
            "loss 30.619169455356847\n"
          ]
        },
        {
          "metadata": {
            "tags": null
          },
          "name": "stderr",
          "output_type": "stream",
          "text": [
            "epoch:  15%|█▌        | 9/60 [21:46<1:53:59, 134.12s/it]"
          ]
        },
        {
          "metadata": {
            "tags": null
          },
          "name": "stdout",
          "output_type": "stream",
          "text": [
            "\n",
            "Epoch 009 train_loss: 30.6192     val_loss 26.9829 train_acc 1.1885 val_acc 0.0000\n",
            "loss 30.229936597495712\n"
          ]
        },
        {
          "metadata": {
            "tags": null
          },
          "name": "stderr",
          "output_type": "stream",
          "text": [
            "epoch:  17%|█▋        | 10/60 [23:58<1:51:10, 133.40s/it]"
          ]
        },
        {
          "output_type": "stream",
          "name": "stdout",
          "text": [
            "\n",
            "Epoch 010 train_loss: 30.2299     val_loss 26.9048 train_acc 1.1597 val_acc 0.0000\n",
            "loss 28.516242402721414\n"
          ]
        },
        {
          "output_type": "stream",
          "name": "stderr",
          "text": [
            "epoch:  18%|█▊        | 11/60 [26:10<1:48:34, 132.94s/it]"
          ]
        },
        {
          "output_type": "stream",
          "name": "stdout",
          "text": [
            "\n",
            "Epoch 011 train_loss: 28.5162     val_loss 26.6728 train_acc 1.1629 val_acc 0.0000\n",
            "loss 33.60172739212635\n"
          ]
        },
        {
          "output_type": "stream",
          "name": "stderr",
          "text": [
            "epoch:  20%|██        | 12/60 [28:22<1:46:03, 132.57s/it]"
          ]
        },
        {
          "output_type": "stream",
          "name": "stdout",
          "text": [
            "\n",
            "Epoch 012 train_loss: 33.6017     val_loss 28.1610 train_acc 1.0607 val_acc 0.0000\n",
            "loss 28.715949043443914\n"
          ]
        },
        {
          "output_type": "stream",
          "name": "stderr",
          "text": [
            "epoch:  22%|██▏       | 13/60 [30:33<1:43:37, 132.29s/it]"
          ]
        },
        {
          "output_type": "stream",
          "name": "stdout",
          "text": [
            "\n",
            "Epoch 013 train_loss: 28.7159     val_loss 27.2689 train_acc 1.1022 val_acc 0.0000\n",
            "loss 25.143071170861592\n"
          ]
        },
        {
          "output_type": "stream",
          "name": "stderr",
          "text": [
            "epoch:  23%|██▎       | 14/60 [32:45<1:41:14, 132.06s/it]"
          ]
        },
        {
          "output_type": "stream",
          "name": "stdout",
          "text": [
            "\n",
            "Epoch 014 train_loss: 25.1431     val_loss 23.0325 train_acc 1.1534 val_acc 0.0000\n",
            "loss 24.220891428486873\n"
          ]
        },
        {
          "output_type": "stream",
          "name": "stderr",
          "text": [
            "epoch:  25%|██▌       | 15/60 [34:56<1:38:54, 131.87s/it]"
          ]
        },
        {
          "output_type": "stream",
          "name": "stdout",
          "text": [
            "\n",
            "Epoch 015 train_loss: 24.2209     val_loss 23.2092 train_acc 1.2013 val_acc 0.0000\n",
            "loss 21.685726333306434\n"
          ]
        },
        {
          "output_type": "stream",
          "name": "stderr",
          "text": [
            "epoch:  27%|██▋       | 16/60 [37:08<1:36:37, 131.75s/it]"
          ]
        },
        {
          "output_type": "stream",
          "name": "stdout",
          "text": [
            "\n",
            "Epoch 016 train_loss: 21.6857     val_loss 20.4297 train_acc 1.3003 val_acc 0.0000\n",
            "loss 20.628916756761583\n"
          ]
        },
        {
          "output_type": "stream",
          "name": "stderr",
          "text": [
            "epoch:  28%|██▊       | 17/60 [39:19<1:34:21, 131.67s/it]"
          ]
        },
        {
          "output_type": "stream",
          "name": "stdout",
          "text": [
            "\n",
            "Epoch 017 train_loss: 20.6289     val_loss 19.8690 train_acc 1.3163 val_acc 0.0000\n",
            "loss 19.98771901506806\n"
          ]
        },
        {
          "output_type": "stream",
          "name": "stderr",
          "text": [
            "epoch:  30%|███       | 18/60 [41:30<1:32:04, 131.52s/it]"
          ]
        },
        {
          "output_type": "stream",
          "name": "stdout",
          "text": [
            "\n",
            "Epoch 018 train_loss: 19.9877     val_loss 19.8111 train_acc 1.3387 val_acc 0.0000\n",
            "loss 19.85828114564312\n"
          ]
        },
        {
          "output_type": "stream",
          "name": "stderr",
          "text": [
            "epoch:  32%|███▏      | 19/60 [43:42<1:29:50, 131.48s/it]"
          ]
        },
        {
          "output_type": "stream",
          "name": "stdout",
          "text": [
            "\n",
            "Epoch 019 train_loss: 19.8583     val_loss 19.7909 train_acc 1.3482 val_acc 0.0000\n",
            "loss 19.88524173448031\n"
          ]
        },
        {
          "output_type": "stream",
          "name": "stderr",
          "text": [
            "epoch:  33%|███▎      | 20/60 [45:53<1:27:37, 131.43s/it]"
          ]
        },
        {
          "output_type": "stream",
          "name": "stdout",
          "text": [
            "\n",
            "Epoch 020 train_loss: 19.8852     val_loss 19.7767 train_acc 1.3674 val_acc 0.0000\n",
            "loss 19.68636141178033\n"
          ]
        },
        {
          "output_type": "stream",
          "name": "stderr",
          "text": [
            "epoch:  35%|███▌      | 21/60 [48:05<1:25:26, 131.46s/it]"
          ]
        },
        {
          "output_type": "stream",
          "name": "stdout",
          "text": [
            "\n",
            "Epoch 021 train_loss: 19.6864     val_loss 19.2197 train_acc 1.3642 val_acc 0.0000\n",
            "loss 19.416709962029664\n"
          ]
        },
        {
          "output_type": "stream",
          "name": "stderr",
          "text": [
            "epoch:  37%|███▋      | 22/60 [50:16<1:23:13, 131.42s/it]"
          ]
        },
        {
          "output_type": "stream",
          "name": "stdout",
          "text": [
            "\n",
            "Epoch 022 train_loss: 19.4167     val_loss 19.9288 train_acc 1.3738 val_acc 0.0000\n",
            "loss 19.51310743331482\n"
          ]
        },
        {
          "output_type": "stream",
          "name": "stderr",
          "text": [
            "epoch:  38%|███▊      | 23/60 [52:28<1:21:08, 131.59s/it]"
          ]
        },
        {
          "output_type": "stream",
          "name": "stdout",
          "text": [
            "\n",
            "Epoch 023 train_loss: 19.5131     val_loss 18.9828 train_acc 1.3291 val_acc 0.0000\n",
            "loss 19.142573387846177\n"
          ]
        },
        {
          "output_type": "stream",
          "name": "stderr",
          "text": [
            "epoch:  40%|████      | 24/60 [54:39<1:18:53, 131.48s/it]"
          ]
        },
        {
          "output_type": "stream",
          "name": "stdout",
          "text": [
            "\n",
            "Epoch 024 train_loss: 19.1426     val_loss 18.8860 train_acc 1.3834 val_acc 0.0000\n",
            "loss 19.010113092879365\n"
          ]
        },
        {
          "output_type": "stream",
          "name": "stderr",
          "text": [
            "epoch:  42%|████▏     | 25/60 [56:50<1:16:36, 131.34s/it]"
          ]
        },
        {
          "output_type": "stream",
          "name": "stdout",
          "text": [
            "\n",
            "Epoch 025 train_loss: 19.0101     val_loss 19.3008 train_acc 1.3898 val_acc 0.0000\n",
            "loss 19.23235001582529\n"
          ]
        },
        {
          "output_type": "stream",
          "name": "stderr",
          "text": [
            "epoch:  43%|████▎     | 26/60 [59:01<1:14:25, 131.34s/it]"
          ]
        },
        {
          "output_type": "stream",
          "name": "stdout",
          "text": [
            "\n",
            "Epoch 026 train_loss: 19.2324     val_loss 18.6867 train_acc 1.3706 val_acc 0.0000\n",
            "loss 18.99850074365496\n"
          ]
        },
        {
          "output_type": "stream",
          "name": "stderr",
          "text": [
            "epoch:  45%|████▌     | 27/60 [1:01:13<1:12:13, 131.31s/it]"
          ]
        },
        {
          "output_type": "stream",
          "name": "stdout",
          "text": [
            "\n",
            "Epoch 027 train_loss: 18.9985     val_loss 18.6140 train_acc 1.3738 val_acc 0.0000\n",
            "loss 18.97489704654805\n"
          ]
        },
        {
          "output_type": "stream",
          "name": "stderr",
          "text": [
            "epoch:  47%|████▋     | 28/60 [1:03:24<1:10:00, 131.26s/it]"
          ]
        },
        {
          "output_type": "stream",
          "name": "stdout",
          "text": [
            "\n",
            "Epoch 028 train_loss: 18.9749     val_loss 18.4815 train_acc 1.4121 val_acc 0.0000\n",
            "loss 18.98572164269832\n"
          ]
        },
        {
          "output_type": "stream",
          "name": "stderr",
          "text": [
            "epoch:  48%|████▊     | 29/60 [1:05:35<1:07:47, 131.22s/it]"
          ]
        },
        {
          "output_type": "stream",
          "name": "stdout",
          "text": [
            "\n",
            "Epoch 029 train_loss: 18.9857     val_loss 18.5333 train_acc 1.4026 val_acc 0.0000\n",
            "loss 18.60099598126272\n"
          ]
        },
        {
          "output_type": "stream",
          "name": "stderr",
          "text": [
            "epoch:  50%|█████     | 30/60 [1:07:46<1:05:35, 131.18s/it]"
          ]
        },
        {
          "output_type": "stream",
          "name": "stdout",
          "text": [
            "\n",
            "Epoch 030 train_loss: 18.6010     val_loss 18.2782 train_acc 1.3962 val_acc 0.0000\n",
            "loss 18.287829086332618\n"
          ]
        },
        {
          "output_type": "stream",
          "name": "stderr",
          "text": [
            "epoch:  52%|█████▏    | 31/60 [1:09:57<1:03:24, 131.20s/it]"
          ]
        },
        {
          "output_type": "stream",
          "name": "stdout",
          "text": [
            "\n",
            "Epoch 031 train_loss: 18.2878     val_loss 18.2488 train_acc 1.4473 val_acc 0.0000\n",
            "loss 18.26524694666814\n"
          ]
        },
        {
          "output_type": "stream",
          "name": "stderr",
          "text": [
            "epoch:  53%|█████▎    | 32/60 [1:12:08<1:01:12, 131.17s/it]"
          ]
        },
        {
          "output_type": "stream",
          "name": "stdout",
          "text": [
            "\n",
            "Epoch 032 train_loss: 18.2652     val_loss 18.2250 train_acc 1.4505 val_acc 0.0000\n",
            "loss 18.29231219339793\n"
          ]
        },
        {
          "output_type": "stream",
          "name": "stderr",
          "text": [
            "epoch:  55%|█████▌    | 33/60 [1:14:19<59:00, 131.11s/it]"
          ]
        },
        {
          "output_type": "stream",
          "name": "stdout",
          "text": [
            "\n",
            "Epoch 033 train_loss: 18.2923     val_loss 18.2233 train_acc 1.4505 val_acc 0.0000\n",
            "loss 18.227463677251045\n"
          ]
        },
        {
          "output_type": "stream",
          "name": "stderr",
          "text": [
            "epoch:  57%|█████▋    | 34/60 [1:16:30<56:47, 131.06s/it]"
          ]
        },
        {
          "output_type": "stream",
          "name": "stdout",
          "text": [
            "\n",
            "Epoch 034 train_loss: 18.2275     val_loss 18.2000 train_acc 1.4441 val_acc 0.0000\n",
            "loss 18.24094164027167\n"
          ]
        },
        {
          "output_type": "stream",
          "name": "stderr",
          "text": [
            "epoch:  58%|█████▊    | 35/60 [1:18:41<54:34, 130.98s/it]"
          ]
        },
        {
          "output_type": "stream",
          "name": "stdout",
          "text": [
            "\n",
            "Epoch 035 train_loss: 18.2409     val_loss 18.1861 train_acc 1.4313 val_acc 0.0000\n",
            "loss 18.214419184428298\n"
          ]
        },
        {
          "output_type": "stream",
          "name": "stderr",
          "text": [
            "epoch:  60%|██████    | 36/60 [1:20:52<52:24, 131.02s/it]"
          ]
        },
        {
          "output_type": "stream",
          "name": "stdout",
          "text": [
            "\n",
            "Epoch 036 train_loss: 18.2144     val_loss 18.1753 train_acc 1.4441 val_acc 0.0000\n",
            "loss 18.19732240155565\n"
          ]
        },
        {
          "output_type": "stream",
          "name": "stderr",
          "text": [
            "epoch:  62%|██████▏   | 37/60 [1:23:03<50:12, 130.98s/it]"
          ]
        },
        {
          "output_type": "stream",
          "name": "stdout",
          "text": [
            "\n",
            "Epoch 037 train_loss: 18.1973     val_loss 18.1654 train_acc 1.4377 val_acc 0.0000\n",
            "loss 18.188944664466725\n"
          ]
        },
        {
          "output_type": "stream",
          "name": "stderr",
          "text": [
            "epoch:  63%|██████▎   | 38/60 [1:25:14<47:59, 130.88s/it]"
          ]
        },
        {
          "output_type": "stream",
          "name": "stdout",
          "text": [
            "\n",
            "Epoch 038 train_loss: 18.1889     val_loss 18.1532 train_acc 1.4505 val_acc 0.0000\n",
            "loss 18.184574633947637\n"
          ]
        },
        {
          "output_type": "stream",
          "name": "stderr",
          "text": [
            "epoch:  65%|██████▌   | 39/60 [1:27:25<45:48, 130.87s/it]"
          ]
        },
        {
          "output_type": "stream",
          "name": "stdout",
          "text": [
            "\n",
            "Epoch 039 train_loss: 18.1846     val_loss 18.1391 train_acc 1.4441 val_acc 0.0000\n",
            "loss 18.165563297376334\n"
          ]
        },
        {
          "output_type": "stream",
          "name": "stderr",
          "text": [
            "epoch:  67%|██████▋   | 40/60 [1:29:36<43:42, 131.14s/it]"
          ]
        },
        {
          "output_type": "stream",
          "name": "stdout",
          "text": [
            "\n",
            "Epoch 040 train_loss: 18.1656     val_loss 18.1322 train_acc 1.4409 val_acc 0.0000\n",
            "loss 18.197945380569838\n"
          ]
        },
        {
          "output_type": "stream",
          "name": "stderr",
          "text": [
            "epoch:  68%|██████▊   | 41/60 [1:31:48<41:31, 131.16s/it]"
          ]
        },
        {
          "output_type": "stream",
          "name": "stdout",
          "text": [
            "\n",
            "Epoch 041 train_loss: 18.1979     val_loss 18.1272 train_acc 1.4313 val_acc 0.0000\n",
            "loss 18.14850587948661\n"
          ]
        },
        {
          "output_type": "stream",
          "name": "stderr",
          "text": [
            "epoch:  70%|███████   | 42/60 [1:33:59<39:21, 131.20s/it]"
          ]
        },
        {
          "output_type": "stream",
          "name": "stdout",
          "text": [
            "\n",
            "Epoch 042 train_loss: 18.1485     val_loss 18.1085 train_acc 1.4505 val_acc 0.0000\n",
            "loss 18.145121994584596\n"
          ]
        },
        {
          "output_type": "stream",
          "name": "stderr",
          "text": [
            "epoch:  72%|███████▏  | 43/60 [1:36:10<37:12, 131.32s/it]"
          ]
        },
        {
          "output_type": "stream",
          "name": "stdout",
          "text": [
            "\n",
            "Epoch 043 train_loss: 18.1451     val_loss 18.0986 train_acc 1.4281 val_acc 0.0000\n",
            "loss 18.12333786056698\n"
          ]
        },
        {
          "output_type": "stream",
          "name": "stderr",
          "text": [
            "epoch:  73%|███████▎  | 44/60 [1:38:22<35:00, 131.27s/it]"
          ]
        },
        {
          "output_type": "stream",
          "name": "stdout",
          "text": [
            "\n",
            "Epoch 044 train_loss: 18.1233     val_loss 18.0840 train_acc 1.4569 val_acc 0.0000\n",
            "loss 18.102426013319004\n"
          ]
        },
        {
          "output_type": "stream",
          "name": "stderr",
          "text": [
            "epoch:  75%|███████▌  | 45/60 [1:40:33<32:49, 131.31s/it]"
          ]
        },
        {
          "output_type": "stream",
          "name": "stdout",
          "text": [
            "\n",
            "Epoch 045 train_loss: 18.1024     val_loss 18.0702 train_acc 1.4473 val_acc 0.0000\n",
            "loss 18.07226016759841\n"
          ]
        },
        {
          "output_type": "stream",
          "name": "stderr",
          "text": [
            "epoch:  77%|███████▋  | 46/60 [1:42:44<30:37, 131.22s/it]"
          ]
        },
        {
          "output_type": "stream",
          "name": "stdout",
          "text": [
            "\n",
            "Epoch 046 train_loss: 18.0723     val_loss 18.0670 train_acc 1.4505 val_acc 0.0000\n",
            "loss 18.069528212386192\n"
          ]
        },
        {
          "output_type": "stream",
          "name": "stderr",
          "text": [
            "epoch:  78%|███████▊  | 47/60 [1:44:56<28:26, 131.30s/it]"
          ]
        },
        {
          "output_type": "stream",
          "name": "stdout",
          "text": [
            "\n",
            "Epoch 047 train_loss: 18.0695     val_loss 18.0643 train_acc 1.4537 val_acc 0.0000\n",
            "loss 18.06708168267513\n"
          ]
        },
        {
          "output_type": "stream",
          "name": "stderr",
          "text": [
            "epoch:  80%|████████  | 48/60 [1:47:07<26:15, 131.32s/it]"
          ]
        },
        {
          "output_type": "stream",
          "name": "stdout",
          "text": [
            "\n",
            "Epoch 048 train_loss: 18.0671     val_loss 18.0629 train_acc 1.4537 val_acc 0.0000\n",
            "loss 18.06612098794737\n"
          ]
        },
        {
          "output_type": "stream",
          "name": "stderr",
          "text": [
            "epoch:  82%|████████▏ | 49/60 [1:49:18<24:04, 131.35s/it]"
          ]
        },
        {
          "output_type": "stream",
          "name": "stdout",
          "text": [
            "\n",
            "Epoch 049 train_loss: 18.0661     val_loss 18.0613 train_acc 1.4537 val_acc 0.0000\n",
            "loss 18.065063336508793\n"
          ]
        },
        {
          "output_type": "stream",
          "name": "stderr",
          "text": [
            "epoch:  83%|████████▎ | 50/60 [1:51:30<21:54, 131.43s/it]"
          ]
        },
        {
          "output_type": "stream",
          "name": "stdout",
          "text": [
            "\n",
            "Epoch 050 train_loss: 18.0651     val_loss 18.0600 train_acc 1.4537 val_acc 0.0000\n",
            "loss 18.06242637535351\n"
          ]
        },
        {
          "output_type": "stream",
          "name": "stderr",
          "text": [
            "epoch:  85%|████████▌ | 51/60 [1:53:41<19:42, 131.39s/it]"
          ]
        },
        {
          "output_type": "stream",
          "name": "stdout",
          "text": [
            "\n",
            "Epoch 051 train_loss: 18.0624     val_loss 18.0585 train_acc 1.4569 val_acc 0.0000\n",
            "loss 18.062251496131886\n"
          ]
        },
        {
          "output_type": "stream",
          "name": "stderr",
          "text": [
            "epoch:  87%|████████▋ | 52/60 [1:55:53<17:31, 131.43s/it]"
          ]
        },
        {
          "output_type": "stream",
          "name": "stdout",
          "text": [
            "\n",
            "Epoch 052 train_loss: 18.0623     val_loss 18.0572 train_acc 1.4601 val_acc 0.0000\n",
            "loss 18.05960848603491\n"
          ]
        },
        {
          "output_type": "stream",
          "name": "stderr",
          "text": [
            "epoch:  88%|████████▊ | 53/60 [1:58:04<15:20, 131.43s/it]"
          ]
        },
        {
          "output_type": "stream",
          "name": "stdout",
          "text": [
            "\n",
            "Epoch 053 train_loss: 18.0596     val_loss 18.0557 train_acc 1.4601 val_acc 0.0000\n",
            "loss 18.059026740907825\n"
          ]
        },
        {
          "output_type": "stream",
          "name": "stderr",
          "text": [
            "epoch:  90%|█████████ | 54/60 [2:00:16<13:08, 131.45s/it]"
          ]
        },
        {
          "output_type": "stream",
          "name": "stdout",
          "text": [
            "\n",
            "Epoch 054 train_loss: 18.0590     val_loss 18.0543 train_acc 1.4569 val_acc 0.0000\n",
            "loss 18.05895583061954\n"
          ]
        },
        {
          "output_type": "stream",
          "name": "stderr",
          "text": [
            "epoch:  92%|█████████▏| 55/60 [2:02:27<10:57, 131.50s/it]"
          ]
        },
        {
          "output_type": "stream",
          "name": "stdout",
          "text": [
            "\n",
            "Epoch 055 train_loss: 18.0590     val_loss 18.0527 train_acc 1.4601 val_acc 0.0000\n",
            "loss 18.055571462622602\n"
          ]
        },
        {
          "output_type": "stream",
          "name": "stderr",
          "text": [
            "epoch:  93%|█████████▎| 56/60 [2:04:39<08:45, 131.47s/it]"
          ]
        },
        {
          "output_type": "stream",
          "name": "stdout",
          "text": [
            "\n",
            "Epoch 056 train_loss: 18.0556     val_loss 18.0511 train_acc 1.4569 val_acc 0.0000\n",
            "loss 18.053892519043362\n"
          ]
        },
        {
          "output_type": "stream",
          "name": "stderr",
          "text": [
            "epoch:  95%|█████████▌| 57/60 [2:06:50<06:34, 131.53s/it]"
          ]
        },
        {
          "output_type": "stream",
          "name": "stdout",
          "text": [
            "\n",
            "Epoch 057 train_loss: 18.0539     val_loss 18.0496 train_acc 1.4537 val_acc 0.0000\n",
            "loss 18.054542955702164\n"
          ]
        },
        {
          "output_type": "stream",
          "name": "stderr",
          "text": [
            "epoch:  97%|█████████▋| 58/60 [2:09:01<04:22, 131.42s/it]"
          ]
        },
        {
          "output_type": "stream",
          "name": "stdout",
          "text": [
            "\n",
            "Epoch 058 train_loss: 18.0545     val_loss 18.0484 train_acc 1.4537 val_acc 0.0000\n",
            "loss 18.05340329495241\n"
          ]
        },
        {
          "output_type": "stream",
          "name": "stderr",
          "text": [
            "epoch:  98%|█████████▊| 59/60 [2:11:13<02:11, 131.38s/it]"
          ]
        },
        {
          "output_type": "stream",
          "name": "stdout",
          "text": [
            "\n",
            "Epoch 059 train_loss: 18.0534     val_loss 18.0465 train_acc 1.4505 val_acc 0.0000\n",
            "loss 18.050623539355254\n"
          ]
        },
        {
          "output_type": "stream",
          "name": "stderr",
          "text": [
            "epoch: 100%|██████████| 60/60 [2:13:24<00:00, 133.41s/it]"
          ]
        },
        {
          "output_type": "stream",
          "name": "stdout",
          "text": [
            "\n",
            "Epoch 060 train_loss: 18.0506     val_loss 18.0454 train_acc 1.4537 val_acc 0.0000\n"
          ]
        },
        {
          "output_type": "stream",
          "name": "stderr",
          "text": [
            "\n"
          ]
        }
      ]
    },
    {
      "cell_type": "code",
      "metadata": {
        "id": "k9OBtt-BGkDg"
      },
      "source": [
        "torch.save(model_resnet.state_dict(), '/content/gdrive/MyDrive/Hacks/weights_ver3.pth')"
      ],
      "execution_count": 21,
      "outputs": []
    },
    {
      "cell_type": "code",
      "metadata": {
        "colab": {
          "base_uri": "https://localhost:8080/",
          "height": 388
        },
        "id": "R_OljFDIeYGB",
        "outputId": "020a5652-dbd8-4011-acfc-e6e0a86300c5"
      },
      "source": [
        "all_history = history\n",
        "show_loss(all_history)"
      ],
      "execution_count": 20,
      "outputs": [
        {
          "output_type": "display_data",
          "data": {
            "image/png": "[encoded data removed]",
            "text/plain": [
              "<Figure size 864x432 with 1 Axes>"
            ]
          },
          "metadata": {
            "needs_background": "light"
          }
        }
      ]
    },
    {
      "cell_type": "code",
      "metadata": {
        "id": "8fiJ_0KjH3Kg"
      },
      "source": [
        "test_dataset = MarksDataset(csv_file='/content/gdrive/MyDrive/Hacks/test_data.csv',\n",
        "                                    root_dir=test_root_dir,\n",
        "                                           transform=transforms.Compose([\n",
        "                                               Rescale(300),\n",
        "                                               CenterCrop(224),\n",
        "                                               ToTensor()\n",
        "                                           ]))"
      ],
      "execution_count": 22,
      "outputs": []
    },
    {
      "cell_type": "code",
      "metadata": {
        "id": "o-o8WvcAM2O1"
      },
      "source": [
        "batch_size = 10\n",
        "test_dataloader = DataLoader(test_dataset, batch_size=batch_size,\n",
        "                        shuffle=False, num_workers=0)"
      ],
      "execution_count": 23,
      "outputs": []
    },
    {
      "cell_type": "code",
      "metadata": {
        "colab": {
          "base_uri": "https://localhost:8080/",
          "height": 359
        },
        "id": "K_9bwcLtfx8g",
        "outputId": "c4bb7bd0-b343-493c-d3c7-ea2d8abd491f"
      },
      "source": [
        "test_data_csv"
      ],
      "execution_count": 24,
      "outputs": [
        {
          "output_type": "execute_result",
          "data": {
            "text/html": [
              "<div>\n",
              "<style scoped>\n",
              "    .dataframe tbody tr th:only-of-type {\n",
              "        vertical-align: middle;\n",
              "    }\n",
              "\n",
              "    .dataframe tbody tr th {\n",
              "        vertical-align: top;\n",
              "    }\n",
              "\n",
              "    .dataframe thead th {\n",
              "        text-align: right;\n",
              "    }\n",
              "</style>\n",
              "<table border=\"1\" class=\"dataframe\">\n",
              "  <thead>\n",
              "    <tr style=\"text-align: right;\">\n",
              "      <th></th>\n",
              "      <th>name</th>\n",
              "      <th>k</th>\n",
              "      <th>t</th>\n",
              "      <th>r</th>\n",
              "    </tr>\n",
              "  </thead>\n",
              "  <tbody>\n",
              "    <tr>\n",
              "      <th>0</th>\n",
              "      <td>0_0_0.tif</td>\n",
              "      <td>0.0</td>\n",
              "      <td>0.0</td>\n",
              "      <td>0.0</td>\n",
              "    </tr>\n",
              "    <tr>\n",
              "      <th>1</th>\n",
              "      <td>30_0_0.tif</td>\n",
              "      <td>30.0</td>\n",
              "      <td>0.0</td>\n",
              "      <td>0.0</td>\n",
              "    </tr>\n",
              "    <tr>\n",
              "      <th>2</th>\n",
              "      <td>-30_0_0.tif</td>\n",
              "      <td>-30.0</td>\n",
              "      <td>0.0</td>\n",
              "      <td>0.0</td>\n",
              "    </tr>\n",
              "    <tr>\n",
              "      <th>3</th>\n",
              "      <td>0_20_0.tif</td>\n",
              "      <td>0.0</td>\n",
              "      <td>20.0</td>\n",
              "      <td>0.0</td>\n",
              "    </tr>\n",
              "    <tr>\n",
              "      <th>4</th>\n",
              "      <td>0_-20_0.tif</td>\n",
              "      <td>0.0</td>\n",
              "      <td>-20.0</td>\n",
              "      <td>0.0</td>\n",
              "    </tr>\n",
              "    <tr>\n",
              "      <th>5</th>\n",
              "      <td>0_0_40.tif</td>\n",
              "      <td>0.0</td>\n",
              "      <td>0.0</td>\n",
              "      <td>40.0</td>\n",
              "    </tr>\n",
              "    <tr>\n",
              "      <th>6</th>\n",
              "      <td>0_0_320.tif</td>\n",
              "      <td>0.0</td>\n",
              "      <td>0.0</td>\n",
              "      <td>320.0</td>\n",
              "    </tr>\n",
              "    <tr>\n",
              "      <th>7</th>\n",
              "      <td>-45_10_340.tif</td>\n",
              "      <td>-45.0</td>\n",
              "      <td>10.0</td>\n",
              "      <td>340.0</td>\n",
              "    </tr>\n",
              "    <tr>\n",
              "      <th>8</th>\n",
              "      <td>-45_-20_340.tif</td>\n",
              "      <td>-45.0</td>\n",
              "      <td>-20.0</td>\n",
              "      <td>340.0</td>\n",
              "    </tr>\n",
              "    <tr>\n",
              "      <th>9</th>\n",
              "      <td>1.5_-9_315.png</td>\n",
              "      <td>1.5</td>\n",
              "      <td>-9.0</td>\n",
              "      <td>315.0</td>\n",
              "    </tr>\n",
              "  </tbody>\n",
              "</table>\n",
              "</div>"
            ],
            "text/plain": [
              "              name     k     t      r\n",
              "0        0_0_0.tif   0.0   0.0    0.0\n",
              "1       30_0_0.tif  30.0   0.0    0.0\n",
              "2      -30_0_0.tif -30.0   0.0    0.0\n",
              "3       0_20_0.tif   0.0  20.0    0.0\n",
              "4      0_-20_0.tif   0.0 -20.0    0.0\n",
              "5       0_0_40.tif   0.0   0.0   40.0\n",
              "6      0_0_320.tif   0.0   0.0  320.0\n",
              "7   -45_10_340.tif -45.0  10.0  340.0\n",
              "8  -45_-20_340.tif -45.0 -20.0  340.0\n",
              "9   1.5_-9_315.png   1.5  -9.0  315.0"
            ]
          },
          "metadata": {},
          "execution_count": 24
        }
      ]
    },
    {
      "cell_type": "code",
      "metadata": {
        "colab": {
          "base_uri": "https://localhost:8080/"
        },
        "id": "m21j84oxM3rp",
        "outputId": "2831083e-869c-4512-f940-dbcef8adc2d3"
      },
      "source": [
        "np.round(predict(model_resnet, test_dataloader)[0], 0)"
      ],
      "execution_count": null,
      "outputs": [
        {
          "output_type": "execute_result",
          "data": {
            "text/plain": [
              "tensor([[ -4.,   0., 318.],\n",
              "        [ -1.,   0.,   8.],\n",
              "        [-40.,  12., 360.],\n",
              "        [ -8., -11.,   9.],\n",
              "        [ -1.,   0.,   0.],\n",
              "        [-38., -20., 344.],\n",
              "        [ -8.,  -5.,   3.],\n",
              "        [  0.,  18.,  11.],\n",
              "        [  3.,  -0.,  51.],\n",
              "        [ -5., -12., 308.]])"
            ]
          },
          "metadata": {},
          "execution_count": 75
        }
      ]
    },
    {
      "cell_type": "code",
      "metadata": {
        "id": "FsSvFIfQE972"
      },
      "source": [
        ""
      ],
      "execution_count": null,
      "outputs": []
    }
  ]
}